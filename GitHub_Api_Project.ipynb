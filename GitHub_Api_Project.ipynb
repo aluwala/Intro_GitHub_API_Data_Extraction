{
 "cells": [
  {
   "cell_type": "markdown",
   "metadata": {},
   "source": [
    "# Task "
   ]
  },
  {
   "cell_type": "markdown",
   "metadata": {},
   "source": [
    "Use `GitHub's REST API v3` to find the top 10 contributors across https://github.com/awslabs/ open source repositories, based on the sum of their contributions to each repository."
   ]
  },
  {
   "cell_type": "markdown",
   "metadata": {},
   "source": [
    "# Import packages"
   ]
  },
  {
   "cell_type": "code",
   "execution_count": 317,
   "metadata": {},
   "outputs": [],
   "source": [
    "import pandas as pd\n",
    "import requests"
   ]
  },
  {
   "cell_type": "markdown",
   "metadata": {},
   "source": [
    "# Get your token "
   ]
  },
  {
   "cell_type": "markdown",
   "metadata": {},
   "source": [
    "- Step 1: Login GitHub with your user name and password\n",
    "- Step 2: Click your icon on the right top and click \"settings\"\n",
    "- Step 3: Scroll down and you can see \"Developer settings\"\n",
    "- Step 4: Then click \"personal access token \" on a new page then click \"Generate New Token\"\n",
    "- Step 5: It will require your GitHub password\n",
    "- Step 6: After you enter your password you can see a new page, and on the top, you can see \"Note\". Here you can name your token \n",
    "- Step 7: click what you want under the \"Note\"\n",
    "- Step 8: Scroll down to the bottom and click \"Generate Token\""
   ]
  },
  {
   "cell_type": "code",
   "execution_count": 306,
   "metadata": {},
   "outputs": [],
   "source": [
    "# set up user name we want to research and get your own access_token , then create header \n",
    "user='awslabs'\n",
    "access_token='0250a3f9e9d287fab9f160e3109daadb93e7c072' \n",
    "headers = {'Authorization':\"Token \"+access_token} # we need header to obtain more data "
   ]
  },
  {
   "cell_type": "markdown",
   "metadata": {},
   "source": [
    "  # Extract all the repos from host/user - awslabs"
   ]
  },
  {
   "cell_type": "code",
   "execution_count": 270,
   "metadata": {},
   "outputs": [],
   "source": [
    "# loop through all pages to obtian all the repose\n",
    "repos=[]\n",
    "for page_num in range(1,300):\n",
    "    try:\n",
    "    # to find all the repos' names from each page\n",
    "        url=f\"https://api.github.com/users/{user}/repos?page={page_num}\" \n",
    "        repo=requests.get(url,headers=headers).json()\n",
    "        repos.append(repo)\n",
    "    except:\n",
    "        repos.append(None)"
   ]
  },
  {
   "cell_type": "code",
   "execution_count": 273,
   "metadata": {},
   "outputs": [],
   "source": [
    "# I don't want to run this serval times so i just save repos locally\n",
    "import pickle\n",
    "pickle_out=open('repos', 'wb')\n",
    "pickle.dump(repos, pickle_out)\n",
    "pickle_out.close()\n"
   ]
  },
  {
   "cell_type": "code",
   "execution_count": null,
   "metadata": {},
   "outputs": [],
   "source": [
    "pickle_in_data = open(\"repos\",\"rb\")\n",
    "repos = pickle.load(pickle_in_data)"
   ]
  },
  {
   "cell_type": "code",
   "execution_count": 336,
   "metadata": {
    "code_folding": [],
    "scrolled": true
   },
   "outputs": [
    {
     "name": "stdout",
     "output_type": "stream",
     "text": [
      "17\n"
     ]
    }
   ],
   "source": [
    "# Okey now we obtained all the repos under the user name \n",
    "\n",
    "for page in repos:\n",
    "    if page==[]:\n",
    "        print(repos.index(page))\n",
    "        break\n",
    "# there are 17 pages"
   ]
  },
  {
   "cell_type": "code",
   "execution_count": 339,
   "metadata": {},
   "outputs": [
    {
     "data": {
      "text/plain": [
       "30"
      ]
     },
     "execution_count": 339,
     "metadata": {},
     "output_type": "execute_result"
    }
   ],
   "source": [
    "#first page has 30 repose\n",
    "len(repos[1])"
   ]
  },
  {
   "cell_type": "code",
   "execution_count": 289,
   "metadata": {},
   "outputs": [],
   "source": [
    "# after we obtianed all the repos information under the awslab, next let us get the repos full_name \n",
    "all_repo_names=[]\n",
    "for page in repos:\n",
    "    for repo in page:\n",
    "        try:\n",
    "            all_repo_names.append(repo['full_name'].split(\"/\")[1])\n",
    "        except:\n",
    "            pass\n",
    "  "
   ]
  },
  {
   "cell_type": "code",
   "execution_count": 341,
   "metadata": {},
   "outputs": [
    {
     "data": {
      "text/plain": [
       "494"
      ]
     },
     "execution_count": 341,
     "metadata": {},
     "output_type": "execute_result"
    }
   ],
   "source": [
    "len(all_repo_names)"
   ]
  },
  {
   "cell_type": "code",
   "execution_count": 307,
   "metadata": {},
   "outputs": [],
   "source": [
    "# collect all contributors from each repo\n",
    "all_contributors=[]\n",
    "for repo_name in all_repo_names:\n",
    "    url = f\"https://api.github.com/repos/awslabs/{repo_name}/contributors\"\n",
    "\n",
    "# make the request and return the json\n",
    "    contributors= requests.get(url,headers=headers).json()\n",
    "    all_contributors.append(contributors)"
   ]
  },
  {
   "cell_type": "code",
   "execution_count": 343,
   "metadata": {},
   "outputs": [
    {
     "data": {
      "text/plain": [
       "494"
      ]
     },
     "execution_count": 343,
     "metadata": {},
     "output_type": "execute_result"
    }
   ],
   "source": [
    "len(all_contributors) # total 494 repos and extracted all contributors from each repo "
   ]
  },
  {
   "cell_type": "code",
   "execution_count": 310,
   "metadata": {},
   "outputs": [],
   "source": [
    "#save it again using pickle \n",
    "pickle.dump(all_contributors, open('all_contributors', 'wb'))\n",
    "pickle_out.close()"
   ]
  },
  {
   "cell_type": "code",
   "execution_count": 323,
   "metadata": {},
   "outputs": [],
   "source": [
    "all_contributors = pickle.load(open(\"all_contributors\",\"rb\"))"
   ]
  },
  {
   "cell_type": "code",
   "execution_count": 311,
   "metadata": {},
   "outputs": [],
   "source": [
    "# collect contributors names and their contribution count \n",
    "names=[]\n",
    "counts=[]\n",
    "for repo in all_contributors:\n",
    "    for contributor in repo:\n",
    "        try:\n",
    "            name=contributor['login']\n",
    "            count=contributor['contributions']\n",
    "            names.append(name)\n",
    "            counts.append(count)\n",
    "        except:\n",
    "            None"
   ]
  },
  {
   "cell_type": "code",
   "execution_count": 312,
   "metadata": {},
   "outputs": [
    {
     "data": {
      "text/plain": [
       "3501"
      ]
     },
     "execution_count": 312,
     "metadata": {},
     "output_type": "execute_result"
    }
   ],
   "source": [
    "len(names) # there are total 3501  "
   ]
  },
  {
   "cell_type": "code",
   "execution_count": 313,
   "metadata": {},
   "outputs": [],
   "source": [
    "# create a dataframe and store the contrbutors' names and their contribution counts\n",
    "mydata=pd.DataFrame()\n",
    "mydata['contributor_name']=names\n",
    "mydata['counts']=counts"
   ]
  },
  {
   "cell_type": "code",
   "execution_count": null,
   "metadata": {},
   "outputs": [],
   "source": [
    "# Then obtain unique names with sum of their contribution counts\n",
    "mydata=mydata.groupby('contributor_name')[\"counts\"].sum().reset_index().sort_values(by='counts',ascending=False)"
   ]
  },
  {
   "cell_type": "code",
   "execution_count": 314,
   "metadata": {},
   "outputs": [],
   "source": [
    "# drop None / missing values \n",
    "mydata=mydata.dropna(axis=0).reset_index().drop(columns='index')"
   ]
  },
  {
   "cell_type": "code",
   "execution_count": 325,
   "metadata": {
    "scrolled": true
   },
   "outputs": [
    {
     "data": {
      "text/html": [
       "<div>\n",
       "<style scoped>\n",
       "    .dataframe tbody tr th:only-of-type {\n",
       "        vertical-align: middle;\n",
       "    }\n",
       "\n",
       "    .dataframe tbody tr th {\n",
       "        vertical-align: top;\n",
       "    }\n",
       "\n",
       "    .dataframe thead th {\n",
       "        text-align: right;\n",
       "    }\n",
       "</style>\n",
       "<table border=\"1\" class=\"dataframe\">\n",
       "  <thead>\n",
       "    <tr style=\"text-align: right;\">\n",
       "      <th></th>\n",
       "      <th>contributor_name</th>\n",
       "      <th>counts</th>\n",
       "    </tr>\n",
       "  </thead>\n",
       "  <tbody>\n",
       "    <tr>\n",
       "      <th>0</th>\n",
       "      <td>fchollet</td>\n",
       "      <td>2228</td>\n",
       "    </tr>\n",
       "    <tr>\n",
       "      <th>1</th>\n",
       "      <td>timmattison</td>\n",
       "      <td>1645</td>\n",
       "    </tr>\n",
       "    <tr>\n",
       "      <th>2</th>\n",
       "      <td>IanMeyers</td>\n",
       "      <td>1231</td>\n",
       "    </tr>\n",
       "    <tr>\n",
       "      <th>3</th>\n",
       "      <td>frankfliu</td>\n",
       "      <td>999</td>\n",
       "    </tr>\n",
       "    <tr>\n",
       "      <th>4</th>\n",
       "      <td>igorborgest</td>\n",
       "      <td>775</td>\n",
       "    </tr>\n",
       "    <tr>\n",
       "      <th>5</th>\n",
       "      <td>dependabot-preview[bot]</td>\n",
       "      <td>751</td>\n",
       "    </tr>\n",
       "    <tr>\n",
       "      <th>6</th>\n",
       "      <td>jamesiri</td>\n",
       "      <td>698</td>\n",
       "    </tr>\n",
       "    <tr>\n",
       "      <th>7</th>\n",
       "      <td>justinboswell</td>\n",
       "      <td>592</td>\n",
       "    </tr>\n",
       "    <tr>\n",
       "      <th>8</th>\n",
       "      <td>JonathanHenson</td>\n",
       "      <td>580</td>\n",
       "    </tr>\n",
       "    <tr>\n",
       "      <th>9</th>\n",
       "      <td>dwmw2</td>\n",
       "      <td>563</td>\n",
       "    </tr>\n",
       "  </tbody>\n",
       "</table>\n",
       "</div>"
      ],
      "text/plain": [
       "          contributor_name  counts\n",
       "0                 fchollet    2228\n",
       "1              timmattison    1645\n",
       "2                IanMeyers    1231\n",
       "3                frankfliu     999\n",
       "4              igorborgest     775\n",
       "5  dependabot-preview[bot]     751\n",
       "6                 jamesiri     698\n",
       "7            justinboswell     592\n",
       "8           JonathanHenson     580\n",
       "9                    dwmw2     563"
      ]
     },
     "execution_count": 325,
     "metadata": {},
     "output_type": "execute_result"
    }
   ],
   "source": [
    "mydata.head(10) # top 10 contributors "
   ]
  },
  {
   "cell_type": "code",
   "execution_count": 326,
   "metadata": {},
   "outputs": [],
   "source": [
    "# save mydata\n",
    "mydata.to_csv(\"my_data.csv\")"
   ]
  },
  {
   "cell_type": "markdown",
   "metadata": {},
   "source": [
    "#### There might be better ways of ETL. Here are some links of documents/ materials,which might be helpful. \n",
    "- Pagination - https://developer.github.com/v3/\n",
    "- AWS Labs organization - https://github.com/awslabs/\n",
    "- Personal Access Token - https://docs.github.com/en/github/authenticating-to-github/creating-a-personal-access-token\n",
    "- Obtian all repos of the owner - https://api.github.com/users/{owner}/repos\n",
    "- a repository's contributors can be fetched from -  https://api.github.com/repos/{owner}/{repo}/contributors.\n",
    "- header - headers = {'Authorization':\"Token \"+access_token} \n",
    "- requests with header -  requests.get(url,headers=headers).json()"
   ]
  }
 ],
 "metadata": {
  "kernelspec": {
   "display_name": "Python 3",
   "language": "python",
   "name": "python3"
  },
  "language_info": {
   "codemirror_mode": {
    "name": "ipython",
    "version": 3
   },
   "file_extension": ".py",
   "mimetype": "text/x-python",
   "name": "python",
   "nbconvert_exporter": "python",
   "pygments_lexer": "ipython3",
   "version": "3.7.6"
  },
  "toc": {
   "base_numbering": 1,
   "nav_menu": {},
   "number_sections": true,
   "sideBar": true,
   "skip_h1_title": false,
   "title_cell": "Table of Contents",
   "title_sidebar": "Contents",
   "toc_cell": false,
   "toc_position": {},
   "toc_section_display": true,
   "toc_window_display": false
  }
 },
 "nbformat": 4,
 "nbformat_minor": 4
}
